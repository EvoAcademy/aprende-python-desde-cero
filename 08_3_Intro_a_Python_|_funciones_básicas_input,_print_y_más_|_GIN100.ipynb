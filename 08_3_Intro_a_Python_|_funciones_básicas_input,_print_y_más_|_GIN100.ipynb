{
  "nbformat": 4,
  "nbformat_minor": 0,
  "metadata": {
    "colab": {
      "provenance": [],
      "include_colab_link": true
    },
    "kernelspec": {
      "name": "python3",
      "display_name": "Python 3"
    },
    "language_info": {
      "name": "python"
    }
  },
  "cells": [
    {
      "cell_type": "markdown",
      "metadata": {
        "id": "view-in-github",
        "colab_type": "text"
      },
      "source": [
        "<a href=\"https://colab.research.google.com/github/scisterna/aprende-python-desde-cero/blob/main/08_3_Intro_a_Python_%7C_funciones_b%C3%A1sicas_input%2C_print_y_m%C3%A1s_%7C_GIN100.ipynb\" target=\"_parent\"><img src=\"https://colab.research.google.com/assets/colab-badge.svg\" alt=\"Open In Colab\"/></a>"
      ]
    },
    {
      "cell_type": "markdown",
      "source": [
        "# input, print y otros básicos\n",
        "Preparado por Sebastián Cisterna\n",
        "\n",
        "En este documento veremos las funciones `print()`, `input()`, que son las funciones, entre otros"
      ],
      "metadata": {
        "id": "r2FoVtLdls_O"
      }
    },
    {
      "cell_type": "markdown",
      "source": [
        "# Comentarios\n",
        "En Python, los comentarios se usan para explicar el código cuando el código básico no se explica por sí mismo. Python ignora los comentarios, por lo que no ejecutará el código que contienen.\n",
        "\n",
        "Los comentarios pueden usarse para hacer el código más legible para las personas y son una buena práctica, especialmente cuando el código se vuelve complejo.\n",
        "\n",
        "Hay dos maneras de escribir comentarios en Python:"
      ],
      "metadata": {
        "id": "EyDQJOa1ExBq"
      }
    },
    {
      "cell_type": "markdown",
      "source": [
        "## Comentarios de una línea\n",
        "Los comentarios de una línea se crean utilizando el carácter de almohadilla o *hashtag* (`#`). Todo lo que esté a la derecha del `#` será ignorado por Python. Aquí hay un ejemplo:"
      ],
      "metadata": {
        "id": "pD52HH-CE6gd"
      }
    },
    {
      "cell_type": "code",
      "source": [
        "# Esto es un comentario\n",
        "myNum = 3 # Esto tambien es un comentrio"
      ],
      "metadata": {
        "id": "h8d8N2_nE5Z3"
      },
      "execution_count": null,
      "outputs": []
    },
    {
      "cell_type": "markdown",
      "source": [
        "Notese que en el compilador, los comentarios suelen ser distinguidos con el color verde"
      ],
      "metadata": {
        "id": "EeY4-jVAFM6D"
      }
    },
    {
      "cell_type": "markdown",
      "source": [
        "## Comentarios multi linea\n",
        "Si tienes comentarios que abarcan varias líneas, una manera de hacerlo es usar el carácter de almohadilla (`#`) al inicio de cada línea:"
      ],
      "metadata": {
        "id": "SmSOoCktFXN5"
      }
    },
    {
      "cell_type": "code",
      "source": [
        "# Este es un comentario largo\n",
        "# y se extiende\n",
        "# a múltiples líneas"
      ],
      "metadata": {
        "id": "bkPqEiPIFg4e"
      },
      "execution_count": null,
      "outputs": []
    },
    {
      "cell_type": "markdown",
      "source": [
        "Otra forma de hacer esto es usar triple comillas"
      ],
      "metadata": {
        "id": "AcQn0EByFk6W"
      }
    },
    {
      "cell_type": "code",
      "source": [
        "\"\"\"\n",
        "Este es un comentario más largo\n",
        "que abarca múltiples líneas\n",
        "\"\"\""
      ],
      "metadata": {
        "id": "FZcCfDUGFm6W"
      },
      "execution_count": null,
      "outputs": []
    },
    {
      "cell_type": "markdown",
      "source": [
        "# La Función `print`\n",
        "La función `print` en Python es una función incorporada que \"envía salida a la consola\". En lenguaje no técnico, significa que se utiliza para mostrar información al usuario.\n",
        "\n",
        "Así es cómo puedes usar la función `print`:"
      ],
      "metadata": {
        "id": "pYWMeBnYEwYh"
      }
    },
    {
      "cell_type": "code",
      "source": [
        "print(\"¡Hola, Mundo!\")"
      ],
      "metadata": {
        "colab": {
          "base_uri": "https://localhost:8080/"
        },
        "id": "l2hVh29TEv64",
        "outputId": "87e3def1-7637-4695-f858-9db2660c0c40"
      },
      "execution_count": null,
      "outputs": [
        {
          "output_type": "stream",
          "name": "stdout",
          "text": [
            "¡Hola, Mundo!\n"
          ]
        }
      ]
    },
    {
      "cell_type": "markdown",
      "source": [
        "Esto mostrará: \"¡Hola, Mundo!\".\n",
        "\n",
        "También puedes usar la función `print` para imprimir el valor de las variables:"
      ],
      "metadata": {
        "id": "-DyVenUOIuqe"
      }
    },
    {
      "cell_type": "code",
      "source": [
        "x = 10\n",
        "print(\"El valor de x es\", x)"
      ],
      "metadata": {
        "id": "8j37Jj-XIuDI",
        "outputId": "bc3f5605-ba41-4244-9a4a-960c1f52580f",
        "colab": {
          "base_uri": "https://localhost:8080/"
        }
      },
      "execution_count": null,
      "outputs": [
        {
          "output_type": "stream",
          "name": "stdout",
          "text": [
            "El valor de x es 10\n"
          ]
        }
      ]
    },
    {
      "cell_type": "markdown",
      "source": [
        "También puedes usar algo llamado `f-strings`, que te permitirá introducir la variable en cualquier lugar que desees dentro de la cadena / string"
      ],
      "metadata": {
        "id": "9NFgYXjQI1A4"
      }
    },
    {
      "cell_type": "code",
      "source": [
        "tu_nombre = \"Sebastian\"\n",
        "\n",
        "print(f\"hola, {tu_nombre}\")"
      ],
      "metadata": {
        "colab": {
          "base_uri": "https://localhost:8080/"
        },
        "id": "TXQoPSHdI_gU",
        "outputId": "af56f36b-ed8e-4f62-d7bc-6ba286ca1bfc"
      },
      "execution_count": null,
      "outputs": [
        {
          "output_type": "stream",
          "name": "stdout",
          "text": [
            "hola, Sebastian\n"
          ]
        }
      ]
    },
    {
      "cell_type": "markdown",
      "source": [
        "Esto es lo que está pasando:\n",
        "\n",
        "`f\"hola, {tu_nombre}\"` : Esto es un f-string, un tipo de cadena literal que comienza con la letra f o F antes de la comilla de apertura. Dentro de un f-string, puedes incluir expresiones dentro de {} (llaves) que serán reemplazadas por sus valores cuando se crea la cadena. En este caso, `{tuNombre}` será reemplazado por el valor de la variable tuNombre.\n",
        "\n",
        "`print(f\"hola, {tu_nombre}\")` : Esta línea imprime el f-string. Si `tu_nombre` fuera `\"Daniela\"`, imprimiría `hola, Daniela`.\n",
        "\n",
        "Por lo tanto, esta línea de código es una manera de imprimir una cadena que incluye el valor de la variable `tu_nombre`. La ventaja de los f-strings es que a menudo son más legibles y concisos que otras formas de formatear cadenas en Python, especialmente cuando estás trabajando con múltiples variables o expresiones más complejas.\n",
        "\n",
        "Por ejemplo:"
      ],
      "metadata": {
        "id": "E2Jf2kn2I45G"
      }
    },
    {
      "cell_type": "code",
      "source": [
        "name = \"Alicia\"\n",
        "age = 25\n",
        "city = \"Nueva York\"\n",
        "\n",
        "greeting = f\"Hola, mi nombre es {name}, tengo {age} años y vivo en {city}.\"\n",
        "\n",
        "print(greeting)"
      ],
      "metadata": {
        "colab": {
          "base_uri": "https://localhost:8080/"
        },
        "id": "tYtPoV9HSYuW",
        "outputId": "bb78a921-b894-49e3-f728-8c1b647cf4e1"
      },
      "execution_count": null,
      "outputs": [
        {
          "output_type": "stream",
          "name": "stdout",
          "text": [
            "Hola, mi nombre es Alicia, tengo 25 años y vivo en Nueva York.\n"
          ]
        }
      ]
    },
    {
      "cell_type": "markdown",
      "source": [
        "Cuando ejecutes este código, imprimirá:\n",
        "`Hola, mi nombre es Alicia, tengo 25 años y vivo en Nueva York.`"
      ],
      "metadata": {
        "id": "hpAdUwy3Scvz"
      }
    },
    {
      "cell_type": "markdown",
      "source": [
        "# La función input\n",
        "La función input en Python es una función incorporada que se utiliza para leer una línea de texto del ingreso del usuario (típicamente desde el teclado). Esta función espera que el usuario escriba alguna entrada y presione enter.\n",
        "\n",
        "He aquí un ejemplo simple:\n",
        "\n"
      ],
      "metadata": {
        "id": "nqgMAc5CTyQp"
      }
    },
    {
      "cell_type": "code",
      "source": [
        "name = input(\"¿Cuál es tu nombre? \")\n",
        "print(\"¡Hola, \" + name + \"!\")"
      ],
      "metadata": {
        "colab": {
          "base_uri": "https://localhost:8080/"
        },
        "id": "4sYjUoSKT62M",
        "outputId": "e4820d39-f1d0-4549-eb42-692ccef3b76e"
      },
      "execution_count": null,
      "outputs": [
        {
          "output_type": "stream",
          "name": "stdout",
          "text": [
            "¿Cuál es tu nombre? Seba\n",
            "¡Hola, Seba!\n"
          ]
        }
      ]
    },
    {
      "cell_type": "markdown",
      "source": [
        "En este código, `input(\"¿Cuál es tu nombre? \")` imprime la cadena \"¿Cuál es tu nombre? \" en la consola y luego espera que el usuario escriba algo. Lo que el usuario escriba es devuelto por la función input como una cadena, y en este caso se está almacenando en la variable name.\n",
        "\n",
        "Después de que el usuario escribe su nombre y presiona enter, el programa continúa con la siguiente línea, que imprime \"¡Hola, \" seguido del nombre del usuario.\n",
        "\n",
        "Es importante destacar que la función input siempre devuelve una cadena. Si deseas usar la entrada como un entero o un flotante (por ejemplo, si estás pidiendo al usuario que introduzca un número), necesitarás convertir el valor devuelto al tipo deseado utilizando la función `int()` o `float()`, así:"
      ],
      "metadata": {
        "id": "16iE-goxVaWL"
      }
    },
    {
      "cell_type": "code",
      "source": [
        "age = int(input(\"¿Cuántos años tienes? \"))\n",
        "print(\"El próximo año tendrás\", age + 1)"
      ],
      "metadata": {
        "colab": {
          "base_uri": "https://localhost:8080/"
        },
        "id": "gRufLDAZVpiY",
        "outputId": "87ca4a05-5484-4930-83b2-0e60a45b03d4"
      },
      "execution_count": null,
      "outputs": [
        {
          "output_type": "stream",
          "name": "stdout",
          "text": [
            "¿Cuántos años tienes? 34\n",
            "El próximo año tendrás 35\n"
          ]
        }
      ]
    },
    {
      "cell_type": "markdown",
      "source": [
        "En este código, `int(input(\"¿Cuántos años tienes? \"))` pide al usuario que introduzca su edad, luego convierte su entrada de una cadena a un entero. Esto permite al programa hacer aritmética con la edad del usuario, como sumar 1 para calcular su edad el próximo año."
      ],
      "metadata": {
        "id": "jaMnBuU-VsX6"
      }
    }
  ]
}