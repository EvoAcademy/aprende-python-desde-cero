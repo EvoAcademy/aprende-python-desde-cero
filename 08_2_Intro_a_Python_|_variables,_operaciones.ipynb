{
  "nbformat": 4,
  "nbformat_minor": 0,
  "metadata": {
    "colab": {
      "provenance": [],
      "include_colab_link": true
    },
    "kernelspec": {
      "name": "python3",
      "display_name": "Python 3"
    },
    "language_info": {
      "name": "python"
    }
  },
  "cells": [
    {
      "cell_type": "markdown",
      "metadata": {
        "id": "view-in-github",
        "colab_type": "text"
      },
      "source": [
        "<a href=\"https://colab.research.google.com/github/scisterna/aprende-python-desde-cero/blob/main/08_2_Intro_a_Python_%7C_variables%2C_operaciones.ipynb\" target=\"_parent\"><img src=\"https://colab.research.google.com/assets/colab-badge.svg\" alt=\"Open In Colab\"/></a>"
      ]
    },
    {
      "cell_type": "markdown",
      "source": [
        "\n",
        "# Variables\n",
        "Preparado por Sebastián Cisterna\n",
        "\n",
        "Este documento te guiará a través de algunos conceptos fundamentales en Python, incluyendo variables, tipos de datos, operaciones matemáticas, comentarios y funciones. Entender estos conceptos proporcionará una base sólida a medida que continúes aprendiendo y explorando Python."
      ],
      "metadata": {
        "id": "r2FoVtLdls_O"
      }
    },
    {
      "cell_type": "markdown",
      "source": [
        "# Variables y tipos de variables\n",
        "El valor que asignas a una variable puede ser de muchos tipos diferentes, y el tipo determina qué tipo de operaciones puedes realizar con el valor. Estos son algunos de los tipos de datos más comunes:"
      ],
      "metadata": {
        "id": "vGikKJsamGjd"
      }
    },
    {
      "cell_type": "markdown",
      "source": [
        "## Entero o Integer\n",
        "Un entero es un número completo (sin un punto decimal). Puede ser positivo o negativo. Por ejemplo:"
      ],
      "metadata": {
        "id": "yT258IaHslQ-"
      }
    },
    {
      "cell_type": "code",
      "source": [
        "mi_entero = 5\n",
        "mi_entero_neg = -3"
      ],
      "metadata": {
        "id": "jm7G87K_spBL"
      },
      "execution_count": null,
      "outputs": []
    },
    {
      "cell_type": "markdown",
      "source": [
        "Con el siguiente código sobreescribiremos el valor actual (5) de `mi_entero`"
      ],
      "metadata": {
        "id": "m4fZzKbb3ALj"
      }
    },
    {
      "cell_type": "code",
      "source": [
        "mi_entero = 10"
      ],
      "metadata": {
        "id": "3_1sfyHQ6Bu7"
      },
      "execution_count": null,
      "outputs": []
    },
    {
      "cell_type": "markdown",
      "source": [
        "## Flotante\n",
        "Un flotante es un número que incluye un punto decimal. Puede ser positivo o negativo. Por ejemplo:"
      ],
      "metadata": {
        "id": "-GoHQacPsztg"
      }
    },
    {
      "cell_type": "code",
      "source": [
        "mi_float = 3.14\n",
        "mi_float_neg = -0.01"
      ],
      "metadata": {
        "id": "YQQai4KVsuMf"
      },
      "execution_count": null,
      "outputs": []
    },
    {
      "cell_type": "markdown",
      "source": [
        "Cabe destacar que, a diferencia de Excel, el separador de decimales es el punto en lugar de la coma."
      ],
      "metadata": {
        "id": "sNMhjJ4Ss4aZ"
      }
    },
    {
      "cell_type": "markdown",
      "source": [
        "## Porcentajes\n",
        "Recuerde que los porcentajes se pueden representar en números entre `0` y `1`. Por ejemplo `50%` es `0.5`. Por ello, suelen representarse como floats y luego se convierten a porcentajes cuando se imprimen o visualizan."
      ],
      "metadata": {
        "id": "RlTJdlZSq6NK"
      }
    },
    {
      "cell_type": "code",
      "source": [
        "porcentaje = 0.13 # equivale a 13%"
      ],
      "metadata": {
        "id": "mhFZxYsdrHX_"
      },
      "execution_count": null,
      "outputs": []
    },
    {
      "cell_type": "markdown",
      "source": [
        "Luego estos `float` se les cambia el formato. A continuación hay dos maneras de hacerlo."
      ],
      "metadata": {
        "id": "1cCSP2y-rN2c"
      }
    },
    {
      "cell_type": "code",
      "source": [
        "# Usando format\n",
        "format(porcentaje, \".0%\")"
      ],
      "metadata": {
        "colab": {
          "base_uri": "https://localhost:8080/",
          "height": 35
        },
        "id": "jPvj9JVMriNT",
        "outputId": "df806a09-6a31-4aac-a950-ccc14b79d097"
      },
      "execution_count": null,
      "outputs": [
        {
          "output_type": "execute_result",
          "data": {
            "text/plain": [
              "'13%'"
            ],
            "application/vnd.google.colaboratory.intrinsic+json": {
              "type": "string"
            }
          },
          "metadata": {},
          "execution_count": 3
        }
      ]
    },
    {
      "cell_type": "code",
      "source": [
        "# Usando f-strings\n",
        "print(f\"{porcentaje:.0%}\")"
      ],
      "metadata": {
        "colab": {
          "base_uri": "https://localhost:8080/"
        },
        "id": "c6QOKco6rWbQ",
        "outputId": "81372f53-57d3-4f81-aeed-184c57c95ced"
      },
      "execution_count": null,
      "outputs": [
        {
          "output_type": "stream",
          "name": "stdout",
          "text": [
            "13%\n"
          ]
        }
      ]
    },
    {
      "cell_type": "markdown",
      "source": [
        "## Cadena o String\n",
        "Una cadena es una secuencia de caracteres, o también mas comúnmente conocido como un texto. En Python, puedes crear una cadena encerrando caracteres entre comillas simples (') o comillas dobles (\"). Por ejemplo:"
      ],
      "metadata": {
        "id": "AVsR4dy166Gs"
      }
    },
    {
      "cell_type": "code",
      "source": [
        "mi_string = '¡Hola, mundo!'\n",
        "otro_string = \"¡Python es divertido!\""
      ],
      "metadata": {
        "id": "RB3033KH7Req"
      },
      "execution_count": null,
      "outputs": []
    },
    {
      "cell_type": "markdown",
      "source": [
        "### Métodos de manipulación de strings\n",
        "Al igual de lo que vimos en Excel, Python permite manipular textos. A continuación algunos ejemplos"
      ],
      "metadata": {
        "id": "Pgnfs3tn_LXq"
      }
    },
    {
      "cell_type": "markdown",
      "source": [
        "#### Concatenar cadenas\n",
        "Puedes unir una cadena con otra, a ello se le llama *concatenar*. Una manera común de hacerlo es usando el simbolo + entre dos cadenas de texto."
      ],
      "metadata": {
        "id": "7KM320xTUE-R"
      }
    },
    {
      "cell_type": "code",
      "source": [
        "anios = 28\n",
        "mensaje = \"tengo \" + str(anios) + \" años de edad\""
      ],
      "metadata": {
        "id": "lfbIVYx5UEFR"
      },
      "execution_count": null,
      "outputs": []
    },
    {
      "cell_type": "markdown",
      "source": [
        "Notese como tuvimos que forzar a que la variable anios fuera un String, usando la función `str`. Hablaremos de esto más adelante en la guía"
      ],
      "metadata": {
        "id": "mU0lzlTbUkwg"
      }
    },
    {
      "cell_type": "markdown",
      "source": [
        "#### Mayúsculas, minusculas, y similares"
      ],
      "metadata": {
        "id": "BV-ZlfXo_63t"
      }
    },
    {
      "cell_type": "code",
      "source": [
        "# Similar a MAYUSC()\n",
        "mi_string.upper()"
      ],
      "metadata": {
        "colab": {
          "base_uri": "https://localhost:8080/",
          "height": 35
        },
        "id": "62HrTtcEAGpp",
        "outputId": "6b3dd894-f37b-438c-d67a-177256c49547"
      },
      "execution_count": null,
      "outputs": [
        {
          "output_type": "execute_result",
          "data": {
            "text/plain": [
              "'¡HOLA, MUNDO!'"
            ],
            "application/vnd.google.colaboratory.intrinsic+json": {
              "type": "string"
            }
          },
          "metadata": {},
          "execution_count": 7
        }
      ]
    },
    {
      "cell_type": "code",
      "source": [
        "# Similar a MINUSC()\n",
        "mi_string.lower()"
      ],
      "metadata": {
        "colab": {
          "base_uri": "https://localhost:8080/",
          "height": 35
        },
        "id": "fBUfDsceAYwW",
        "outputId": "74c83b22-f683-4106-ddcc-e2f3496f953f"
      },
      "execution_count": null,
      "outputs": [
        {
          "output_type": "execute_result",
          "data": {
            "text/plain": [
              "'¡hola, mundo!'"
            ],
            "application/vnd.google.colaboratory.intrinsic+json": {
              "type": "string"
            }
          },
          "metadata": {},
          "execution_count": 9
        }
      ]
    },
    {
      "cell_type": "code",
      "source": [
        "# Similar a NOMPROPIO()\n",
        "mi_string.title()"
      ],
      "metadata": {
        "colab": {
          "base_uri": "https://localhost:8080/",
          "height": 35
        },
        "id": "xgH6qRoUAPVo",
        "outputId": "9a39943c-72bf-4b6f-ebaa-e32df3a347f2"
      },
      "execution_count": null,
      "outputs": [
        {
          "output_type": "execute_result",
          "data": {
            "text/plain": [
              "'¡Hola, Mundo!'"
            ],
            "application/vnd.google.colaboratory.intrinsic+json": {
              "type": "string"
            }
          },
          "metadata": {},
          "execution_count": 3
        }
      ]
    },
    {
      "cell_type": "code",
      "source": [
        "# Similar a REEMPLAZAR()\n",
        "mi_string.replace(\"mundo\", \"estudiante\")"
      ],
      "metadata": {
        "id": "e5tKPD0dAXEk",
        "colab": {
          "base_uri": "https://localhost:8080/",
          "height": 35
        },
        "outputId": "98d66aa9-6b66-4836-f74d-2d5c7610d160"
      },
      "execution_count": null,
      "outputs": [
        {
          "output_type": "execute_result",
          "data": {
            "text/plain": [
              "'¡Hola, estudiante!'"
            ],
            "application/vnd.google.colaboratory.intrinsic+json": {
              "type": "string"
            }
          },
          "metadata": {},
          "execution_count": 3
        }
      ]
    },
    {
      "cell_type": "markdown",
      "source": [
        "## Booleano\n",
        "Un booleano es un tipo que solo puede tener uno de dos valores: `True` o `False`. Los booleanos a menudo se usan en condiciones, como en una declaración if. Por ejemplo:"
      ],
      "metadata": {
        "id": "D3Sr2LIW7Ooc"
      }
    },
    {
      "cell_type": "code",
      "source": [
        "es_verdadero = True\n",
        "es_falso = False"
      ],
      "metadata": {
        "id": "g9I0L1Ca76_x"
      },
      "execution_count": null,
      "outputs": []
    },
    {
      "cell_type": "markdown",
      "source": [
        "Pon atención en el hecho de que True y False empiezan con mayúsculas. Esto es distinto en otros lenguajes de programación"
      ],
      "metadata": {
        "id": "sXlO1OC98AVc"
      }
    },
    {
      "cell_type": "markdown",
      "source": [
        "# Convirtiendo Entre Tipos\n",
        "En Python, puedes convertir valores entre diferentes tipos utilizando funciones como `int()`, `float()`, y `str()`. Sin embargo, no todas las conversiones están permitidas - por ejemplo, no puedes convertir el string \"hola\" a un entero.\n",
        "Aquí hay un ejemplo de cómo convertir un flotante a un entero:"
      ],
      "metadata": {
        "id": "QPKurWLM8Emi"
      }
    },
    {
      "cell_type": "code",
      "source": [
        "mi_float = 3.14\n",
        "mi_entero = int(mi_float) # Esto nos dará el valor 3"
      ],
      "metadata": {
        "id": "j8Z9Q4W18ECN"
      },
      "execution_count": null,
      "outputs": []
    },
    {
      "cell_type": "markdown",
      "source": [
        "Nota que cuando conviertes un flotante a un entero en Python, no redondea al número entero más cercano - siempre trunca.\n",
        "Aquí hay otro ejemplo usando la función `str()`:"
      ],
      "metadata": {
        "id": "1MFLDJ4f8Ll9"
      }
    },
    {
      "cell_type": "code",
      "source": [
        "mi_entero = 10\n",
        "print(\"La variable mi_entero es de tipo: \" + str(type(mi_entero)))"
      ],
      "metadata": {
        "colab": {
          "base_uri": "https://localhost:8080/"
        },
        "id": "MIOsVNzc8NCj",
        "outputId": "4adc225f-29ca-4dea-b7b2-1f6f640c334a"
      },
      "execution_count": null,
      "outputs": [
        {
          "output_type": "stream",
          "name": "stdout",
          "text": [
            "La variable myInteger es de tipo: <class 'int'>\n"
          ]
        }
      ]
    },
    {
      "cell_type": "markdown",
      "source": [
        "# Obteniendo el tipo de las variables\n",
        "¿Viste eso de `type()` que usamos en el último código?\n",
        "En Python, si alguna vez te encuentras en una situación en la que no estás seguro del tipo de una variable o simplemente deseas verificarlo, puedes utilizar la función `type()`. Esta función devuelve el tipo de la variable que le pases como argumento.\n",
        "Por ejemplo, si tienes una variable que es un string y quieres confirmar que es así:"
      ],
      "metadata": {
        "id": "mDmSwsJ08N1K"
      }
    },
    {
      "cell_type": "code",
      "source": [
        "mi_string = \"¡Hola, Python!\"\n",
        "print(type(mi_string))"
      ],
      "metadata": {
        "colab": {
          "base_uri": "https://localhost:8080/"
        },
        "id": "pakvZlT-8fs2",
        "outputId": "ba696423-5447-45a9-e11c-1dd575ec8c9a"
      },
      "execution_count": null,
      "outputs": [
        {
          "output_type": "stream",
          "name": "stdout",
          "text": [
            "<class 'str'>\n"
          ]
        }
      ]
    },
    {
      "cell_type": "markdown",
      "source": [
        "Al ejecutar el código anterior, obtendrías la salida `<class 'str'>`, lo que indica que la variable `mi_string` es de tipo cadena (o str en inglés).\n",
        "Del mismo modo, si tienes un número entero:"
      ],
      "metadata": {
        "id": "dceckY1o8jvL"
      }
    },
    {
      "cell_type": "code",
      "source": [
        "mi_entero = 42\n",
        "print(type(mi_entero))"
      ],
      "metadata": {
        "colab": {
          "base_uri": "https://localhost:8080/"
        },
        "id": "Q9kUSR4_8obz",
        "outputId": "92adc1dc-f4b9-4f5f-96e2-f588838c4a81"
      },
      "execution_count": null,
      "outputs": [
        {
          "output_type": "stream",
          "name": "stdout",
          "text": [
            "<class 'int'>\n"
          ]
        }
      ]
    },
    {
      "cell_type": "markdown",
      "source": [
        "El resultado sería `<class 'int'>`, confirmando que es un número entero.\n",
        "Es importante resaltar que `type()` es extremadamente útil para la depuración y para entender mejor el comportamiento de tu código, especialmente cuando trabajas con funciones o librerías que pueden devolver diferentes tipos de datos."
      ],
      "metadata": {
        "id": "Adu83QQR8rtc"
      }
    },
    {
      "cell_type": "markdown",
      "source": [
        "# Operaciones matemáticas\n",
        "Operaciones Matemáticas\n",
        "En Python, hay varios operadores que te permiten realizar operaciones matemáticas básicas:\n",
        "\n",
        "* Suma (`+`): Este operador suma dos números. Por ejemplo, `5 + 3` es igual a `8`.\n",
        "* Resta (`-`): Este operador resta el segundo número del primero. Por ejemplo, `10 - 7` es igual a `3`.\n",
        "* Multiplicación (`*`): Este operador multiplica dos números. Por ejemplo, `2 * 3` es igual a `6`.\n",
        "* División (`/)`: Este operador divide el primer número entre el segundo. Por ejemplo, `10 / 2` es igual a `5`.\n",
        "* Módulo (`%`): Este operador da el residuo de una división. Por ejemplo, `10 % 3` es igual a `1` porque 10 dividido por 3 deja un residuo de 1.\n",
        "* Exponenciación (`**`) Este operador eleva el primer número a la potencia del segundo número. Por ejemplo, `2**3` es igual a `8` porque 2 elevado a la potencia de 3 es 8. De modo alternativo, se puede usar la función pow, ve un ejemplo en el código más abajo."
      ],
      "metadata": {
        "id": "TmhcGRnR-dm-"
      }
    },
    {
      "cell_type": "code",
      "source": [
        "NumA = 2\n",
        "NumB = 3"
      ],
      "metadata": {
        "id": "LhJVLF-n-2A8"
      },
      "execution_count": null,
      "outputs": []
    },
    {
      "cell_type": "code",
      "source": [
        "# Suma\n",
        "NumB + NumA"
      ],
      "metadata": {
        "colab": {
          "base_uri": "https://localhost:8080/"
        },
        "id": "lSARAOEy_X1O",
        "outputId": "c8fa841a-04c1-419c-c4f4-e29ad0ba9db0"
      },
      "execution_count": null,
      "outputs": [
        {
          "output_type": "execute_result",
          "data": {
            "text/plain": [
              "5"
            ]
          },
          "metadata": {},
          "execution_count": 25
        }
      ]
    },
    {
      "cell_type": "code",
      "source": [
        "# Resta\n",
        "NumB - NumA"
      ],
      "metadata": {
        "colab": {
          "base_uri": "https://localhost:8080/"
        },
        "id": "Df1RbRjY_ZRW",
        "outputId": "c7691494-82d2-4dfb-e505-6471d8ba1f90"
      },
      "execution_count": null,
      "outputs": [
        {
          "output_type": "execute_result",
          "data": {
            "text/plain": [
              "1"
            ]
          },
          "metadata": {},
          "execution_count": 26
        }
      ]
    },
    {
      "cell_type": "code",
      "source": [
        "# Multiplicación\n",
        "NumB * NumA"
      ],
      "metadata": {
        "colab": {
          "base_uri": "https://localhost:8080/"
        },
        "id": "OU6gTGNy_Zqq",
        "outputId": "e846ecc5-028c-4f9f-98e5-d61b62e3a1e8"
      },
      "execution_count": null,
      "outputs": [
        {
          "output_type": "execute_result",
          "data": {
            "text/plain": [
              "6"
            ]
          },
          "metadata": {},
          "execution_count": 27
        }
      ]
    },
    {
      "cell_type": "code",
      "source": [
        "# Division\n",
        "NumB / NumA"
      ],
      "metadata": {
        "colab": {
          "base_uri": "https://localhost:8080/"
        },
        "id": "pyO5-U4M_Z6z",
        "outputId": "159348e6-3fd9-44c5-9ae4-1b0ce45610a7"
      },
      "execution_count": null,
      "outputs": [
        {
          "output_type": "execute_result",
          "data": {
            "text/plain": [
              "1.5"
            ]
          },
          "metadata": {},
          "execution_count": 28
        }
      ]
    },
    {
      "cell_type": "code",
      "source": [
        "# Modulo\n",
        "NumB % NumA"
      ],
      "metadata": {
        "colab": {
          "base_uri": "https://localhost:8080/"
        },
        "id": "9hMTosZY_iZx",
        "outputId": "48f5c50d-3a4d-45ce-fadf-98b1e8c5977b"
      },
      "execution_count": null,
      "outputs": [
        {
          "output_type": "execute_result",
          "data": {
            "text/plain": [
              "1"
            ]
          },
          "metadata": {},
          "execution_count": 15
        }
      ]
    },
    {
      "cell_type": "code",
      "source": [
        "# Otro ejercicio de modulo\n",
        "NumC = 13\n",
        "NumD = 4\n",
        "NumC % NumD"
      ],
      "metadata": {
        "colab": {
          "base_uri": "https://localhost:8080/"
        },
        "id": "syu0IZnd-Zlj",
        "outputId": "37209b5f-ba6b-43fd-8be7-d31f1e115037"
      },
      "execution_count": null,
      "outputs": [
        {
          "output_type": "execute_result",
          "data": {
            "text/plain": [
              "1"
            ]
          },
          "metadata": {},
          "execution_count": 3
        }
      ]
    },
    {
      "cell_type": "code",
      "source": [
        "# Exponenciación\n",
        "NumB**NumA\n",
        "\n",
        "# Exponente con pow()\n",
        "pow(NumB, NumA)"
      ],
      "metadata": {
        "colab": {
          "base_uri": "https://localhost:8080/"
        },
        "id": "fNA3ISXl_iOm",
        "outputId": "d44be4ad-bbea-42e8-af1f-69b18651c357"
      },
      "execution_count": null,
      "outputs": [
        {
          "output_type": "execute_result",
          "data": {
            "text/plain": [
              "9"
            ]
          },
          "metadata": {},
          "execution_count": 31
        }
      ]
    },
    {
      "cell_type": "markdown",
      "source": [
        "# Operando entre `floats` e `int`\n",
        "Tanto `float` como `int` son tipo de variables que representan números, por lo mismo es compatible hacer operaciones entre ellos"
      ],
      "metadata": {
        "id": "4Xg5EOgeXkB2"
      }
    },
    {
      "cell_type": "code",
      "source": [
        "mi_float = 3.14\n",
        "mi_int = 2\n",
        "\n",
        "mi_int*mi_float"
      ],
      "metadata": {
        "colab": {
          "base_uri": "https://localhost:8080/"
        },
        "id": "VgFD1G1OXy5f",
        "outputId": "b79cff17-1f2b-415c-bf65-9c5122897930"
      },
      "execution_count": null,
      "outputs": [
        {
          "output_type": "execute_result",
          "data": {
            "text/plain": [
              "6.28"
            ]
          },
          "metadata": {},
          "execution_count": 4
        }
      ]
    },
    {
      "cell_type": "markdown",
      "source": [
        "Sin embargo, debes saber que siempre el resultado será un float. Aun cuando pueda ser entero."
      ],
      "metadata": {
        "id": "FXhyH8KZX80Q"
      }
    },
    {
      "cell_type": "code",
      "source": [
        "mi_float = 0.2\n",
        "mi_int = 5\n",
        "\n",
        "resultado = mi_int * mi_float\n",
        "print(resultado)\n",
        "print(type(resultado))"
      ],
      "metadata": {
        "colab": {
          "base_uri": "https://localhost:8080/"
        },
        "id": "4nMyx19qYFGC",
        "outputId": "004859ee-eb83-4f82-87ac-7293a9de9394"
      },
      "execution_count": null,
      "outputs": [
        {
          "output_type": "stream",
          "name": "stdout",
          "text": [
            "1.0\n",
            "<class 'float'>\n"
          ]
        }
      ]
    },
    {
      "cell_type": "markdown",
      "source": [
        "# Actualizando el valor de las variables: asignar vs declarar"
      ],
      "metadata": {
        "id": "EGzZhm73tqr4"
      }
    },
    {
      "cell_type": "markdown",
      "source": [
        "Primero asignaremos la variable con un invenario inicial de 3000 unidades"
      ],
      "metadata": {
        "id": "S2HihygItvxc"
      }
    },
    {
      "cell_type": "code",
      "source": [
        "inventario = 3000"
      ],
      "metadata": {
        "id": "Sm40DTVittVa"
      },
      "execution_count": null,
      "outputs": []
    },
    {
      "cell_type": "markdown",
      "source": [
        "En la siguiente línea de código `inventario = inventario + 2000`, la palabra \"inventario\" se repite tanto a la derecha como a la izquierda por dos razones:\n",
        "\n",
        "Para indicar la variable que se está modificando:\n",
        "\n",
        "A la izquierda del \"=\" se encuentra el nombre de la variable que queremos actualizar. En este caso, es \"`inventario`\".\n",
        "El \"=\" actúa como un signo de **asignación**.\n",
        "\n",
        "Para indicar el valor que se le asigna a la variable:\n",
        "\n",
        "A la derecha del \"=\" se encuentra la expresión que se calcula para obtener el nuevo valor de la variable. En este caso, es \"`inventario + 2000`\".\n",
        "\n",
        "\n",
        "En resumen, la repetición de \"`inventario`\" ayuda a diferenciar entre la variable que se está modificando (a la izquierda) y el valor que se le está asignando (a la derecha)."
      ],
      "metadata": {
        "id": "GnByPWuXtwXm"
      }
    },
    {
      "cell_type": "code",
      "source": [
        "inventario = inventario + 2000"
      ],
      "metadata": {
        "id": "tV_lGK8ctwv2"
      },
      "execution_count": null,
      "outputs": []
    },
    {
      "cell_type": "markdown",
      "source": [
        "Esto se puede acortar del siguiente modo:"
      ],
      "metadata": {
        "id": "oWhS9OuQt2no"
      }
    },
    {
      "cell_type": "code",
      "source": [
        "inventario += 2000"
      ],
      "metadata": {
        "id": "kaIjCZ4Et1UP"
      },
      "execution_count": null,
      "outputs": []
    },
    {
      "cell_type": "markdown",
      "source": [
        "En el caso de sustracción, `inventario = inventario - 2000`"
      ],
      "metadata": {
        "id": "XBA_cYEst32w"
      }
    },
    {
      "cell_type": "code",
      "source": [
        "inventario -= 2000"
      ],
      "metadata": {
        "id": "z3Q4r0BFt6L7"
      },
      "execution_count": null,
      "outputs": []
    }
  ]
}